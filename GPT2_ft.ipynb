{
 "cells": [
  {
   "cell_type": "code",
   "id": "initial_id",
   "metadata": {
    "collapsed": true,
    "ExecuteTime": {
     "end_time": "2025-04-21T22:35:58.019634Z",
     "start_time": "2025-04-21T22:35:58.013753Z"
    }
   },
   "source": [
    "from transformers import Trainer, TrainingArguments, GPT2LMHeadModel, GPT2Tokenizer\n",
    "from torch.utils.data import Dataset\n",
    "import evaluate\n",
    "\n",
    "import pandas as pd\n",
    "import numpy as np\n",
    "\n",
    "import os\n",
    "os.environ[\"TOKENIZERS_PARALLELISM\"] = \"false\""
   ],
   "outputs": [],
   "execution_count": 18
  },
  {
   "metadata": {},
   "cell_type": "code",
   "outputs": [],
   "execution_count": null,
   "source": [
    "from huggingface_hub import notebook_login\n",
    "notebook_login()"
   ],
   "id": "7a8c61a5c18d8575"
  },
  {
   "metadata": {
    "ExecuteTime": {
     "end_time": "2025-04-21T22:35:59.576706Z",
     "start_time": "2025-04-21T22:35:58.035958Z"
    }
   },
   "cell_type": "code",
   "source": [
    "import wandb\n",
    "from datetime import datetime\n",
    "\n",
    "run_name = \"gpt2_\" + datetime.now().strftime(\"%y%m%d_%H%M\")\n",
    "wandb.init(project=\"GPT2_ft\", name=run_name)"
   ],
   "id": "db0285b6c41cf30b",
   "outputs": [
    {
     "data": {
      "text/plain": [
       "<IPython.core.display.HTML object>"
      ],
      "text/html": []
     },
     "metadata": {},
     "output_type": "display_data"
    },
    {
     "data": {
      "text/plain": [
       "<IPython.core.display.HTML object>"
      ],
      "text/html": [
       "<br>    <style><br>        .wandb-row {<br>            display: flex;<br>            flex-direction: row;<br>            flex-wrap: wrap;<br>            justify-content: flex-start;<br>            width: 100%;<br>        }<br>        .wandb-col {<br>            display: flex;<br>            flex-direction: column;<br>            flex-basis: 100%;<br>            flex: 1;<br>            padding: 10px;<br>        }<br>    </style><br><div class=\"wandb-row\"><div class=\"wandb-col\"><h3>Run history:</h3><br/><table class=\"wandb\"><tr><td>eval/loss</td><td>█▃▂▁▁▁</td></tr><tr><td>eval/rouge_rouge1</td><td>▁▆▇███</td></tr><tr><td>eval/rouge_rouge2</td><td>▁▆▇███</td></tr><tr><td>eval/rouge_rougeL</td><td>▁▆▇███</td></tr><tr><td>eval/rouge_rougeLsum</td><td>▁▆▇███</td></tr><tr><td>eval/runtime</td><td>▄█▆▄▁▁</td></tr><tr><td>eval/samples_per_second</td><td>▅▁▃▅██</td></tr><tr><td>eval/steps_per_second</td><td>▆▁▃▄██</td></tr><tr><td>train/epoch</td><td>▁▁▂▂▂▂▂▁▁▂▂▂▂▂▃▃▃▄▄▄▄▄▅▅▅▅▆▆▆▆▇▇▇▇████▁</td></tr><tr><td>train/global_step</td><td>▁▁▂▂▂▂▂▁▁▂▂▂▂▂▃▃▃▄▄▄▄▄▅▅▅▅▆▆▆▆▇▇▇▇████▁</td></tr><tr><td>train/grad_norm</td><td>█▃▂▂▂▂▁▂▂▁▁▁▁▁▂▁▁▂▁▂▁▁▁▁▁▁▂▁▁▁▂</td></tr><tr><td>train/learning_rate</td><td>▂▁▁▁▁▂▂▂▂▂▂▂▁▁▁▁▁▁▁▁▁▁▁▁▁▁▁▁▁▁█</td></tr><tr><td>train/loss</td><td>█▅▄▃▃▃▂▂▂▂▂▁▂▂▁▁▁▁▁▁▁▁▁▁▁▁▁▁▁▁▁</td></tr></table><br/></div><div class=\"wandb-col\"><h3>Run summary:</h3><br/><table class=\"wandb\"><tr><td>eval/loss</td><td>0.8673</td></tr><tr><td>eval/rouge_rouge1</td><td>78.59528</td></tr><tr><td>eval/rouge_rouge2</td><td>58.56226</td></tr><tr><td>eval/rouge_rougeL</td><td>73.91513</td></tr><tr><td>eval/rouge_rougeLsum</td><td>77.29441</td></tr><tr><td>eval/runtime</td><td>531.7919</td></tr><tr><td>eval/samples_per_second</td><td>0.656</td></tr><tr><td>eval/steps_per_second</td><td>0.041</td></tr><tr><td>total_flos</td><td>414903168000000.0</td></tr><tr><td>train/epoch</td><td>0.19608</td></tr><tr><td>train/global_step</td><td>10</td></tr><tr><td>train/grad_norm</td><td>3.27946</td></tr><tr><td>train/learning_rate</td><td>0.00019</td></tr><tr><td>train/loss</td><td>1.02</td></tr><tr><td>train_loss</td><td>1.06089</td></tr><tr><td>train_runtime</td><td>4484.8181</td></tr><tr><td>train_samples_per_second</td><td>0.906</td></tr><tr><td>train_steps_per_second</td><td>0.057</td></tr></table><br/></div></div>"
      ]
     },
     "metadata": {},
     "output_type": "display_data"
    },
    {
     "data": {
      "text/plain": [
       "<IPython.core.display.HTML object>"
      ],
      "text/html": [
       " View run <strong style=\"color:#cdcd00\">gpt2_250421_1630</strong> at: <a href='https://wandb.ai/minwu-university-of-michigan/GPT2_ft/runs/6xd8u7ww' target=\"_blank\">https://wandb.ai/minwu-university-of-michigan/GPT2_ft/runs/6xd8u7ww</a><br> View project at: <a href='https://wandb.ai/minwu-university-of-michigan/GPT2_ft' target=\"_blank\">https://wandb.ai/minwu-university-of-michigan/GPT2_ft</a><br>Synced 5 W&B file(s), 0 media file(s), 0 artifact file(s) and 0 other file(s)"
      ]
     },
     "metadata": {},
     "output_type": "display_data"
    },
    {
     "data": {
      "text/plain": [
       "<IPython.core.display.HTML object>"
      ],
      "text/html": [
       "Find logs at: <code>./wandb/run-20250421_163030-6xd8u7ww/logs</code>"
      ]
     },
     "metadata": {},
     "output_type": "display_data"
    },
    {
     "data": {
      "text/plain": [
       "<IPython.core.display.HTML object>"
      ],
      "text/html": [
       "Tracking run with wandb version 0.19.9"
      ]
     },
     "metadata": {},
     "output_type": "display_data"
    },
    {
     "data": {
      "text/plain": [
       "<IPython.core.display.HTML object>"
      ],
      "text/html": [
       "Run data is saved locally in <code>/Users/tracy/Desktop/留学/UMich/SI 630/Final Project/Model/wandb/run-20250421_183558-fmnbdztl</code>"
      ]
     },
     "metadata": {},
     "output_type": "display_data"
    },
    {
     "data": {
      "text/plain": [
       "<IPython.core.display.HTML object>"
      ],
      "text/html": [
       "Syncing run <strong><a href='https://wandb.ai/minwu-university-of-michigan/GPT2_ft/runs/fmnbdztl' target=\"_blank\">gpt2_250421_1835</a></strong> to <a href='https://wandb.ai/minwu-university-of-michigan/GPT2_ft' target=\"_blank\">Weights & Biases</a> (<a href='https://wandb.me/developer-guide' target=\"_blank\">docs</a>)<br>"
      ]
     },
     "metadata": {},
     "output_type": "display_data"
    },
    {
     "data": {
      "text/plain": [
       "<IPython.core.display.HTML object>"
      ],
      "text/html": [
       " View project at <a href='https://wandb.ai/minwu-university-of-michigan/GPT2_ft' target=\"_blank\">https://wandb.ai/minwu-university-of-michigan/GPT2_ft</a>"
      ]
     },
     "metadata": {},
     "output_type": "display_data"
    },
    {
     "data": {
      "text/plain": [
       "<IPython.core.display.HTML object>"
      ],
      "text/html": [
       " View run at <a href='https://wandb.ai/minwu-university-of-michigan/GPT2_ft/runs/fmnbdztl' target=\"_blank\">https://wandb.ai/minwu-university-of-michigan/GPT2_ft/runs/fmnbdztl</a>"
      ]
     },
     "metadata": {},
     "output_type": "display_data"
    },
    {
     "data": {
      "text/html": [
       "<button onClick=\"this.nextSibling.style.display='block';this.style.display='none';\">Display W&B run</button><iframe src='https://wandb.ai/minwu-university-of-michigan/GPT2_ft/runs/fmnbdztl?jupyter=true' style='border:none;width:100%;height:420px;display:none;'></iframe>"
      ],
      "text/plain": [
       "<wandb.sdk.wandb_run.Run at 0x31e5dcee0>"
      ]
     },
     "execution_count": 19,
     "metadata": {},
     "output_type": "execute_result"
    }
   ],
   "execution_count": 19
  },
  {
   "metadata": {
    "ExecuteTime": {
     "end_time": "2025-04-21T22:35:59.593918Z",
     "start_time": "2025-04-21T22:35:59.589114Z"
    }
   },
   "cell_type": "code",
   "source": [
    "class CoverLetterDataset(Dataset):\n",
    "    def __init__(self, dataframe, tokenizer, max_length=200):\n",
    "        self.df = dataframe.reset_index(drop=True)\n",
    "        self.tokenizer = tokenizer\n",
    "        self.max_length = max_length\n",
    "\n",
    "        # Ensure tokenizer has a pad token (GPT2 doesn't by default)\n",
    "        if tokenizer.pad_token is None:\n",
    "            tokenizer.add_special_tokens({'pad_token': tokenizer.eos_token})\n",
    "\n",
    "    def __len__(self):\n",
    "        return len(self.df)\n",
    "\n",
    "    def __getitem__(self, idx):\n",
    "        row = self.df.iloc[idx]\n",
    "\n",
    "        prompt = (\n",
    "            f\"Job Title: {row['Job Title']}\\n\"\n",
    "            f\"Preferred Qualifications: {row['Preferred Qualifications']}\\n\"\n",
    "            f\"Hiring Company: {row['Hiring Company']}\\n\"\n",
    "            f\"Applicant Name: {row['Applicant Name']}\\n\"\n",
    "            f\"Past Working Experience: {row['Past Working Experience']}\\n\"\n",
    "            f\"Current Working Experience: {row['Current Working Experience']}\\n\"\n",
    "            f\"Skillsets: {row['Skillsets']}\\n\"\n",
    "            f\"Qualifications: {row['Qualifications']}\\n\"\n",
    "            f\"Cover Letter: {row['Cover Letter']} {self.tokenizer.eos_token}\"\n",
    "        )\n",
    "\n",
    "        # Tokenize the combined prompt and cover letter\n",
    "        encodings = self.tokenizer(\n",
    "            prompt,\n",
    "            truncation=True,\n",
    "            padding=\"max_length\",\n",
    "            max_length=self.max_length,\n",
    "            return_tensors=\"pt\"\n",
    "        )\n",
    "\n",
    "        return {\n",
    "            \"input_ids\": encodings[\"input_ids\"].squeeze(0),\n",
    "            \"attention_mask\": encodings[\"attention_mask\"].squeeze(0),\n",
    "            \"labels\": encodings[\"input_ids\"].squeeze(0).clone()\n",
    "        }"
   ],
   "id": "2056dc2859401a4d",
   "outputs": [],
   "execution_count": 20
  },
  {
   "metadata": {
    "ExecuteTime": {
     "end_time": "2025-04-21T22:36:02.200719Z",
     "start_time": "2025-04-21T22:35:59.606570Z"
    }
   },
   "cell_type": "code",
   "source": [
    "model_name = \"gpt2\"\n",
    "tokenizer = GPT2Tokenizer.from_pretrained(model_name)\n",
    "tokenizer.pad_token = tokenizer.eos_token  # GPT-2 doesn't have a pad token\n",
    "\n",
    "model = GPT2LMHeadModel.from_pretrained(model_name)"
   ],
   "id": "c194b63eb17e27d1",
   "outputs": [],
   "execution_count": 21
  },
  {
   "metadata": {
    "ExecuteTime": {
     "end_time": "2025-04-21T22:36:02.368587Z",
     "start_time": "2025-04-21T22:36:02.295090Z"
    }
   },
   "cell_type": "code",
   "source": [
    "df_train = pd.read_csv(\"/Users/tracy/Desktop/留学/UMich/SI 630/Final Project/Data/CoverLetter_train.csv\")\n",
    "df_eval = pd.read_csv(\"/Users/tracy/Desktop/留学/UMich/SI 630/Final Project/Data/CoverLetter_eval.csv\")\n",
    "\n",
    "train_dataset = CoverLetterDataset(dataframe=df_train, tokenizer=tokenizer)\n",
    "eval_dataset = CoverLetterDataset(dataframe=df_eval, tokenizer=tokenizer)"
   ],
   "id": "9aaa81409528ce11",
   "outputs": [],
   "execution_count": 22
  },
  {
   "metadata": {
    "ExecuteTime": {
     "end_time": "2025-04-21T22:36:02.847300Z",
     "start_time": "2025-04-21T22:36:02.444588Z"
    }
   },
   "cell_type": "code",
   "source": [
    "rouge = evaluate.load(\"rouge\")\n",
    "\n",
    "def compute_metrics(eval_preds):\n",
    "    predictions, labels = eval_preds\n",
    "\n",
    "    # Unwrap predictions if they’re in a tuple\n",
    "    if isinstance(predictions, tuple):\n",
    "        predictions = predictions[0]\n",
    "    predictions = np.argmax(predictions, axis=-1)\n",
    "\n",
    "    # Decode predictions\n",
    "    decoded_preds = tokenizer.batch_decode(predictions, skip_special_tokens=True)\n",
    "\n",
    "    # Decode labels\n",
    "    processed_labels = []\n",
    "    for label in labels:\n",
    "        processed_l = []\n",
    "        for l in label:\n",
    "            if l != -100:\n",
    "                processed_l.append(l)\n",
    "            else:\n",
    "                processed_l.append(tokenizer.pad_token_id)\n",
    "        processed_labels.append(processed_l)\n",
    "\n",
    "    decoded_labels = tokenizer.batch_decode(processed_labels, skip_special_tokens=True)\n",
    "\n",
    "    # Compute ROUGE\n",
    "    rouge_result = rouge.compute(predictions=decoded_preds, references=decoded_labels, use_stemmer=True)\n",
    "\n",
    "    # Handle format difference\n",
    "    if hasattr(list(rouge_result.values())[0], \"mid\"):\n",
    "        rouge_result = {\n",
    "            f\"rouge_{key}\": value.mid.fmeasure * 100\n",
    "            for key, value in rouge_result.items()\n",
    "        }\n",
    "    else:\n",
    "        rouge_result = {\n",
    "            f\"rouge_{key}\": value * 100\n",
    "            for key, value in rouge_result.items()\n",
    "        }\n",
    "\n",
    "    return rouge_result\n"
   ],
   "id": "ffea8106777d7d97",
   "outputs": [],
   "execution_count": 23
  },
  {
   "metadata": {
    "ExecuteTime": {
     "end_time": "2025-04-21T22:36:02.885318Z",
     "start_time": "2025-04-21T22:36:02.860077Z"
    }
   },
   "cell_type": "code",
   "source": [
    "training_args = TrainingArguments(\n",
    "    output_dir=\"./GPT2-coverletter\",\n",
    "    eval_strategy=\"epoch\",\n",
    "    learning_rate=1e-4,\n",
    "    per_device_train_batch_size=16,\n",
    "    per_device_eval_batch_size=16,\n",
    "    num_train_epochs=5,\n",
    "    weight_decay=0.02,\n",
    "    logging_dir=\"./logs\",\n",
    "    logging_steps=10,\n",
    "    use_cpu=True\n",
    ")\n",
    "\n",
    "\n",
    "trainer = Trainer(\n",
    "    model=model,\n",
    "    args=training_args,\n",
    "    train_dataset=train_dataset,\n",
    "    eval_dataset=eval_dataset,\n",
    "    processing_class=tokenizer,\n",
    "    compute_metrics=compute_metrics,\n",
    ")"
   ],
   "id": "e29a03cc0d5f8c2a",
   "outputs": [],
   "execution_count": 24
  },
  {
   "metadata": {
    "ExecuteTime": {
     "end_time": "2025-04-21T23:46:43.111062Z",
     "start_time": "2025-04-21T22:36:02.897854Z"
    }
   },
   "cell_type": "code",
   "source": "trainer.train()",
   "id": "c085c2294a9cbd7a",
   "outputs": [
    {
     "data": {
      "text/plain": [
       "<IPython.core.display.HTML object>"
      ],
      "text/html": [
       "\n",
       "    <div>\n",
       "      \n",
       "      <progress value='255' max='255' style='width:300px; height:20px; vertical-align: middle;'></progress>\n",
       "      [255/255 1:10:31, Epoch 5/5]\n",
       "    </div>\n",
       "    <table border=\"1\" class=\"dataframe\">\n",
       "  <thead>\n",
       " <tr style=\"text-align: left;\">\n",
       "      <th>Epoch</th>\n",
       "      <th>Training Loss</th>\n",
       "      <th>Validation Loss</th>\n",
       "      <th>Rouge Rouge1</th>\n",
       "      <th>Rouge Rouge2</th>\n",
       "      <th>Rouge Rougel</th>\n",
       "      <th>Rouge Rougelsum</th>\n",
       "    </tr>\n",
       "  </thead>\n",
       "  <tbody>\n",
       "    <tr>\n",
       "      <td>1</td>\n",
       "      <td>0.996400</td>\n",
       "      <td>0.863794</td>\n",
       "      <td>78.358705</td>\n",
       "      <td>58.354626</td>\n",
       "      <td>73.737969</td>\n",
       "      <td>77.110188</td>\n",
       "    </tr>\n",
       "    <tr>\n",
       "      <td>2</td>\n",
       "      <td>0.848400</td>\n",
       "      <td>0.763048</td>\n",
       "      <td>80.473347</td>\n",
       "      <td>62.614970</td>\n",
       "      <td>76.791279</td>\n",
       "      <td>79.526907</td>\n",
       "    </tr>\n",
       "    <tr>\n",
       "      <td>3</td>\n",
       "      <td>0.724600</td>\n",
       "      <td>0.721585</td>\n",
       "      <td>81.601683</td>\n",
       "      <td>64.699500</td>\n",
       "      <td>78.205636</td>\n",
       "      <td>80.767674</td>\n",
       "    </tr>\n",
       "    <tr>\n",
       "      <td>4</td>\n",
       "      <td>0.678600</td>\n",
       "      <td>0.702138</td>\n",
       "      <td>82.301545</td>\n",
       "      <td>65.991253</td>\n",
       "      <td>78.929268</td>\n",
       "      <td>81.507870</td>\n",
       "    </tr>\n",
       "    <tr>\n",
       "      <td>5</td>\n",
       "      <td>0.692700</td>\n",
       "      <td>0.694238</td>\n",
       "      <td>82.511855</td>\n",
       "      <td>66.619736</td>\n",
       "      <td>79.337842</td>\n",
       "      <td>81.813278</td>\n",
       "    </tr>\n",
       "  </tbody>\n",
       "</table><p>"
      ]
     },
     "metadata": {},
     "output_type": "display_data"
    },
    {
     "data": {
      "text/plain": [
       "TrainOutput(global_step=255, training_loss=0.8698728037815467, metrics={'train_runtime': 4239.6873, 'train_samples_per_second': 0.959, 'train_steps_per_second': 0.06, 'total_flos': 414903168000000.0, 'train_loss': 0.8698728037815467, 'epoch': 5.0})"
      ]
     },
     "execution_count": 25,
     "metadata": {},
     "output_type": "execute_result"
    }
   ],
   "execution_count": 25
  },
  {
   "metadata": {
    "ExecuteTime": {
     "end_time": "2025-04-22T01:37:24.317473Z",
     "start_time": "2025-04-22T01:26:29.454365Z"
    }
   },
   "cell_type": "code",
   "source": "trainer.evaluate(eval_dataset=eval_dataset)",
   "id": "fc31a10d84b8273e",
   "outputs": [
    {
     "data": {
      "text/plain": [
       "{'eval_loss': 0.6942383646965027,\n",
       " 'eval_rouge_rouge1': 82.51185466206925,\n",
       " 'eval_rouge_rouge2': 66.6197361919401,\n",
       " 'eval_rouge_rougeL': 79.33784221859365,\n",
       " 'eval_rouge_rougeLsum': 81.81327797596344,\n",
       " 'eval_runtime': 654.4844,\n",
       " 'eval_samples_per_second': 0.533,\n",
       " 'eval_steps_per_second': 0.034,\n",
       " 'epoch': 5.0}"
      ]
     },
     "execution_count": 34,
     "metadata": {},
     "output_type": "execute_result"
    }
   ],
   "execution_count": 34
  },
  {
   "metadata": {
    "ExecuteTime": {
     "end_time": "2025-04-21T23:51:52.043415Z",
     "start_time": "2025-04-21T23:51:51.961717Z"
    }
   },
   "cell_type": "code",
   "source": [
    "prompt = (\n",
    "            f\"Job Title: Data Scientist\\n\"\n",
    "            f\"Preferred Qualifications: Master degree in Statistics\\n\"\n",
    "            f\"Hiring Company: Google\\n\"\n",
    "            f\"Applicant Name: Tracy Wu\\n\"\n",
    "            f\"Past Working Experience: Data Engineer\\n\"\n",
    "            f\"Current Working Experience: Research Assistant in University of Michigan\\n\"\n",
    "            f\"Skillsets: Python\\n\"\n",
    "            f\"Qualifications: Statistics\\n\"\n",
    "            f\"Cover Letter:  \"\n",
    "        )\n",
    "\n",
    "inputs = tokenizer(prompt, return_tensors=\"pt\").to(model.device)\n",
    "outputs = model.generate(\n",
    "    inputs[\"input_ids\"],\n",
    "    max_length=300,\n",
    "    temperature=0.7,\n",
    "    top_k=50,\n",
    "    top_p=0.95,\n",
    "    repetition_penalty=1.2,\n",
    "    do_sample=True,\n",
    "    eos_token_id=tokenizer.eos_token_id\n",
    ")\n",
    "\n",
    "print(tokenizer.decode(outputs[0], skip_special_tokens=True))\n"
   ],
   "id": "fff4a2f4d016f0ad",
   "outputs": [
    {
     "name": "stderr",
     "output_type": "stream",
     "text": [
      "The attention mask and the pad token id were not set. As a consequence, you may observe unexpected behavior. Please pass your input's `attention_mask` to obtain reliable results.\n",
      "Setting `pad_token_id` to `eos_token_id`:50256 for open-end generation.\n"
     ]
    },
    {
     "name": "stdout",
     "output_type": "stream",
     "text": [
      "Job Title: Data Scientist\n",
      "Preferred Qualifications: Master degree in Statistics\n",
      "Hiring Company: Google\n",
      "Applicant Name: Tracy Wu\n",
      "Past Working Experience: Data Engineer\n",
      "Current Working Experience: Research Assistant in University of Michigan\n",
      "Skillsets: Python\n",
      "Qualifications: Statistics\n",
      "Cover Letter:  \n"
     ]
    }
   ],
   "execution_count": 28
  },
  {
   "metadata": {
    "ExecuteTime": {
     "end_time": "2025-04-21T23:52:03.075412Z",
     "start_time": "2025-04-21T23:51:58.996023Z"
    }
   },
   "cell_type": "code",
   "source": [
    "prompt = (\n",
    "            f\"Job Title: Data Scientist\\n\"\n",
    "            f\"Preferred Qualifications: Master degree in Statistics\\n\"\n",
    "            f\"Applicant Name: Tracy Wu\\n\"\n",
    "            \"Cover Letter:  \"\n",
    "        )\n",
    "\n",
    "inputs = tokenizer(prompt, return_tensors=\"pt\").to(model.device)\n",
    "outputs = model.generate(\n",
    "    inputs[\"input_ids\"],\n",
    "    max_length=300,\n",
    "    temperature=0.7,\n",
    "    top_k=50,\n",
    "    top_p=0.95,\n",
    "    repetition_penalty=1.2,\n",
    "    do_sample=True,\n",
    "    eos_token_id=tokenizer.eos_token_id\n",
    ")\n",
    "\n",
    "print(tokenizer.decode(outputs[0], skip_special_tokens=True))"
   ],
   "id": "21a1cc7aed47333a",
   "outputs": [
    {
     "name": "stderr",
     "output_type": "stream",
     "text": [
      "The attention mask and the pad token id were not set. As a consequence, you may observe unexpected behavior. Please pass your input's `attention_mask` to obtain reliable results.\n",
      "Setting `pad_token_id` to `eos_token_id`:50256 for open-end generation.\n"
     ]
    },
    {
     "name": "stdout",
     "output_type": "stream",
     "text": [
      "Job Title: Data Scientist\n",
      "Preferred Qualifications: Master degree in Statistics\n",
      "Applicant Name: Tracy Wu\n",
      "Cover Letter:   I am a self employed professional with 3+ years of experience working as an analyst at XYZ Company. My previous roles include Analyst and Senior Business Intelligence Manager for ABC Corporation, where my analytical skills combined have allowed me to excel on both business intelligence (4-7 hours per week) & strategic decision making tasks using Excel tools such the Power BI toolkit or Quick Looker Suite software suites. Prior work includes managing company data packages from time series analysis through project management; developing dashboards that detail product performance metrics while also presenting insights about current state/performance trends within individual products providing value driven coaching opportunities by senior executives interested in leveraging this opportunity into their team's strategy development efforts. In addition, over 5 year experiences having direct impactful role models used across multiple industries including healthcare settings creating improved communication between teams which is beneficial considering its importance during customer satisfaction testing periods .\n"
     ]
    }
   ],
   "execution_count": 29
  },
  {
   "metadata": {
    "ExecuteTime": {
     "end_time": "2025-04-21T23:58:24.789182Z",
     "start_time": "2025-04-21T23:53:00.238444Z"
    }
   },
   "cell_type": "code",
   "source": "trainer.push_to_hub()",
   "id": "56edf530cb8b1a9c",
   "outputs": [
    {
     "data": {
      "text/plain": [
       "training_args.bin:   0%|          | 0.00/5.30k [00:00<?, ?B/s]"
      ],
      "application/vnd.jupyter.widget-view+json": {
       "version_major": 2,
       "version_minor": 0,
       "model_id": "6a8203a2bb7a4adca0e7f14f4cd364a9"
      }
     },
     "metadata": {},
     "output_type": "display_data"
    },
    {
     "data": {
      "text/plain": [
       "model.safetensors:   0%|          | 0.00/498M [00:00<?, ?B/s]"
      ],
      "application/vnd.jupyter.widget-view+json": {
       "version_major": 2,
       "version_minor": 0,
       "model_id": "ba35bdcbe5b84fa3b0afd8b614861369"
      }
     },
     "metadata": {},
     "output_type": "display_data"
    },
    {
     "data": {
      "text/plain": [
       "Upload 2 LFS files:   0%|          | 0/2 [00:00<?, ?it/s]"
      ],
      "application/vnd.jupyter.widget-view+json": {
       "version_major": 2,
       "version_minor": 0,
       "model_id": "33d75772e69f4eb9a68c87ddac60f17b"
      }
     },
     "metadata": {},
     "output_type": "display_data"
    },
    {
     "data": {
      "text/plain": [
       "CommitInfo(commit_url='https://huggingface.co/TracyWu32/GPT2-coverletter/commit/5294f00f559515ee0994082fef316149f6a3a0e2', commit_message='GPT2-CL', commit_description='', oid='5294f00f559515ee0994082fef316149f6a3a0e2', pr_url=None, repo_url=RepoUrl('https://huggingface.co/TracyWu32/GPT2-coverletter', endpoint='https://huggingface.co', repo_type='model', repo_id='TracyWu32/GPT2-coverletter'), pr_revision=None, pr_num=None)"
      ]
     },
     "execution_count": 31,
     "metadata": {},
     "output_type": "execute_result"
    }
   ],
   "execution_count": 31
  },
  {
   "metadata": {},
   "cell_type": "code",
   "outputs": [],
   "execution_count": null,
   "source": "",
   "id": "3837c603630efe"
  }
 ],
 "metadata": {
  "kernelspec": {
   "display_name": "Python 3",
   "language": "python",
   "name": "python3"
  },
  "language_info": {
   "codemirror_mode": {
    "name": "ipython",
    "version": 2
   },
   "file_extension": ".py",
   "mimetype": "text/x-python",
   "name": "python",
   "nbconvert_exporter": "python",
   "pygments_lexer": "ipython2",
   "version": "2.7.6"
  }
 },
 "nbformat": 4,
 "nbformat_minor": 5
}
